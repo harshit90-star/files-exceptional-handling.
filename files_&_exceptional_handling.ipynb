{
  "nbformat": 4,
  "nbformat_minor": 0,
  "metadata": {
    "colab": {
      "provenance": []
    },
    "kernelspec": {
      "name": "python3",
      "display_name": "Python 3"
    },
    "language_info": {
      "name": "python"
    }
  },
  "cells": [
    {
      "cell_type": "markdown",
      "source": [
        "# Theory Questions"
      ],
      "metadata": {
        "id": "GysjP7pz7yIo"
      }
    },
    {
      "cell_type": "markdown",
      "source": [
        "1. What is the difference between interpreted and compiled languages?\n",
        "  - The main difference between compiled and interpreted languages is when the code is translated into machine code.\n",
        "\n",
        "2. What is exception handling in Python?\n",
        "  - Exception handling in Python is a technique for managing errors that occur while a program is running. It allows programs to continue running or exit gracefully when an error occurs.\n",
        "\n",
        "3. What is the purpose of the finally block in exception handling?\n",
        "  - The purpose of a finally block in exception handling is to ensure that important code is executed regardless of whether an exception occurs.\n",
        "\n",
        "4. What is logging in Python?\n",
        "  - Python logging is a module that tracks events that occur while a program is running.\n",
        "\n",
        "5. What is the significance of the __del__ method in Python?\n",
        "  - __del__ is a finalizer. It is called when an object is garbage collected which happens at some point after all references to the object have been deleted. In a simple case this could be right after you say del x or, if x is a local variable, after the function ends.\n",
        "\n",
        "6. What is the difference between import and from ... import in Python?\n",
        "  - In general, you should use the import statement when you need to use many attributes from a module, or when the module name is short and easy to remember. You should use the from statement when you only need to use a few attributes from a module, or when the module name is long and hard to remember.\n",
        "\n",
        "7. How can you handle multiple exceptions in Python?\n",
        "  - In Python, multiple exceptions are handled using the try and except blocks. The try block contains the code that might throw an exception, and the except block contains the code that runs if an exception occurs.\n",
        "\n",
        "8. What is the purpose of the with statement when handling files in Python?\n",
        "  - The with statement in Python is used to simplify the management of resources that need to be acquired and released in a specific order.\n",
        "\n",
        "9. What is the difference between multithreading and multiprocessing?\n",
        "  - Multiprocessing uses two or more CPUs to increase computing power, whereas multithreading uses a single process with multiple code segments to increase computing power.\n",
        "\n",
        "10. What are the advantages of using logging in a program?\n",
        "  - Using logging in a program provides significant advantages for debugging, monitoring application performance, analyzing user behavior, identifying security issues, and overall understanding how the software is operating.\n",
        "\n",
        "11. What is memory management in Python?\n",
        "  - Memory management in Python is the process of allocating and freeing up memory for programs to run efficiently.\n",
        "\n",
        "12. What are the basic steps involved in exception handling in Python?\n",
        "  - In Python, the basic steps for exception handling involve using a \"try\" block to enclose code that might raise an exception, an \"except\" block to handle the exception if it occurs, and optionally, an \"else\" block to execute code if no exception is raised, and a \"finally\" block to run code regardless of whether an exception occurs.\n",
        "\n",
        "13. Why is memory management important in Python?\n",
        "  - Memory management in Python is important because it helps programs run efficiently and prevents memory leaks.\n",
        "\n",
        "14. What is the role of try and except in exception handling?\n",
        "  - In exception handling, \"try\" and \"except\" are used to define a block of code where potential errors might occur (\"try\"), and a separate block to handle those errors if they arise (\"except\").\n",
        "\n",
        "15. How does Python's garbage collection system work?\n",
        "  - Python's garbage collection (GC) is a system that automatically frees up memory for objects that are no longer in use.\n",
        "\n",
        "16. What is the purpose of the else block in exception handling?\n",
        "  - The purpose of the else block in exception handling is to execute code when no exceptions occur in the try block.\n",
        "\n",
        "17. What are the common logging levels in Python?\n",
        "  - Python's logging module supports five logging levels: DEBUG, INFO, WARNING, ERROR, and CRITICAL.\n",
        "\n",
        "18. What is the difference between os.fork() and multiprocessing in Python?\n",
        "  - The only real difference between the os. fork and multiprocessing. Process is portability and library overhead.\n",
        "\n",
        "19. What is the importance of closing a file in Python?\n",
        "  - Closing a file after use is important because it frees up system resources that are being used by the file.\n",
        "\n",
        "20. What is the difference between file.read() and file.readline() in Python?\n",
        "  - In Python, the `read()` method is used to read a specified number of characters from a file or input stream, while the `readline()` method is used to read a single line from a file or input stream.\n",
        "\n",
        "21. What is the logging module in Python used for?\n",
        "  - Python logging is a module that allows you to track events that occur while your program is running.\n",
        "\n",
        "22. What is the os module in Python used for in file handling?\n",
        "  - Python has a built-in os module with methods for interacting with the operating system, like creating files and directories, management of files and directories, input, output, environment variables, process management, etc.\n",
        "\n",
        "23. What are the challenges associated with memory management in Python?\n",
        "  - The primary challenge with memory management in Python lies in the potential for memory leaks due to circular references, where objects reference each other indefinitely, preventing the garbage collector from reclaiming unused memory, which can lead to performance degradation and crashes if not properly managed.\n",
        "\n",
        "24. How do you raise an exception manually in Python?\n",
        "  - To manually raise an exception in Python, use the raise statement.\n",
        "\n",
        "25. Why is it important to use multithreading in certain applications?\n",
        "  - Multi-threading allows you to make the best use out of your existing hardware resources and also allows simple resource sharing.\n",
        "  "
      ],
      "metadata": {
        "id": "Na92K_S2t2tR"
      }
    },
    {
      "cell_type": "markdown",
      "source": [
        "# Practical Questions"
      ],
      "metadata": {
        "id": "slAW8GxF7_Aq"
      }
    },
    {
      "cell_type": "code",
      "source": [
        "#1 How can you open a file for writing in Python and write a string to it?\n",
        "data = [[\"Name\", \"Course\", \"Fee\"],\n",
        "       [\"Ajay\", \"DS\", \"20000\"],\n",
        "       [\"Rahul\", \"DA\", \"30000\"]]\n",
        "\n",
        "import csv\n",
        "with open(\"example_csv.csv\", \"w\") as file:\n",
        "    w = csv.writer(file)\n",
        "    for i in data:\n",
        "        w.writerow(i)\n",
        "\n"
      ],
      "metadata": {
        "id": "MwZDcEkX8GL9"
      },
      "execution_count": 4,
      "outputs": []
    },
    {
      "cell_type": "code",
      "source": [
        "#2 Write a Python program to read the contents of a file and print each line.\n",
        "with open(\"example_csv.csv\", 'r') as f:\n",
        "    r = csv.reader(f)\n",
        "    for i in r:\n",
        "        print(i)"
      ],
      "metadata": {
        "colab": {
          "base_uri": "https://localhost:8080/"
        },
        "id": "ov8srbRb9P7Q",
        "outputId": "6d28c799-0866-41ef-e6f7-ceb9e959b9c6"
      },
      "execution_count": 6,
      "outputs": [
        {
          "output_type": "stream",
          "name": "stdout",
          "text": [
            "['Name', 'Course', 'Fee']\n",
            "['Ajay', 'DS', '20000']\n",
            "['Rahul', 'DA', '30000']\n"
          ]
        }
      ]
    },
    {
      "cell_type": "code",
      "source": [
        "#3 How would you handle a case where the file doesn't exist while trying to open it for reading?\n",
        "try:\n",
        "    with open(\"example_text\", 'r') as f:\n",
        "        r = example_text.reader(f)\n",
        "        for i in r:\n",
        "            print(i)\n",
        "except FileNotFoundError:\n",
        "    print(\"File not found\")"
      ],
      "metadata": {
        "colab": {
          "base_uri": "https://localhost:8080/"
        },
        "id": "fSlPC7j29iPQ",
        "outputId": "c9abfdce-96c2-42df-82d8-3bd6ebb603de"
      },
      "execution_count": 11,
      "outputs": [
        {
          "output_type": "stream",
          "name": "stdout",
          "text": [
            "File not found\n"
          ]
        }
      ]
    },
    {
      "cell_type": "code",
      "source": [
        "#4 Write a Python script that reads from one file and writes its content to another file?\n",
        "try:\n",
        "    with open(\"example_csv.csv\", 'r') as f:\n",
        "        r = csv.reader(f)\n",
        "        with open(\"example_text\", 'w') as g:\n",
        "            w = csv.writer(g)\n",
        "            for i in r:\n",
        "                w.writerow(i)\n",
        "except FileNotFoundError:\n",
        "    print(\"File not found\")"
      ],
      "metadata": {
        "id": "a0r890pL_5sY"
      },
      "execution_count": 14,
      "outputs": []
    },
    {
      "cell_type": "code",
      "source": [
        "#5  How would you catch and handle division by zero error in Python?\n",
        "try:\n",
        "    a = 1/0\n",
        "except ZeroDivisionError:\n",
        "    print(\"Division by zero\")"
      ],
      "metadata": {
        "colab": {
          "base_uri": "https://localhost:8080/"
        },
        "id": "IiCOh5aWAxlo",
        "outputId": "d518ecd9-bbf6-4d63-de6f-e18c0323f410"
      },
      "execution_count": 16,
      "outputs": [
        {
          "output_type": "stream",
          "name": "stdout",
          "text": [
            "Division by zero\n"
          ]
        }
      ]
    },
    {
      "cell_type": "code",
      "source": [
        "#6 Write a Python program that logs an error message to a log file when a division by zero exception occurs.\n",
        "try:\n",
        "    a = 1/0\n",
        "except ZeroDivisionError:\n",
        "    with open(\"example_text\", 'w') as f:\n",
        "        f.write(\"Division by zero\")"
      ],
      "metadata": {
        "id": "f7Gdvx7jBSLk"
      },
      "execution_count": 17,
      "outputs": []
    },
    {
      "cell_type": "code",
      "source": [
        "#7 How do you log information at different levels (INFO, ERROR, WARNING) in Python using the logging module?\n",
        "import logging\n",
        "logging.basicConfig(filename = 'test.log', level = logging.INFO)\n",
        "logging.info(\"This is an info message\")\n",
        "logging.warning(\"This is a warning message\")\n",
        "logging.error(\"This is an error message\")\n",
        "\n",
        "logging.shutdown()"
      ],
      "metadata": {
        "colab": {
          "base_uri": "https://localhost:8080/"
        },
        "id": "hLpdFzmjBh6B",
        "outputId": "61f4d4ed-19fc-4427-bbb2-684297e894fe"
      },
      "execution_count": 19,
      "outputs": [
        {
          "output_type": "stream",
          "name": "stderr",
          "text": [
            "WARNING:root:This is a warning message\n",
            "ERROR:root:This is an error message\n"
          ]
        }
      ]
    },
    {
      "cell_type": "code",
      "source": [
        "#8 Write a program to handle a file opening error using exception handling.\n",
        "open(\"files.txt\", 'r')"
      ],
      "metadata": {
        "colab": {
          "base_uri": "https://localhost:8080/",
          "height": 158
        },
        "id": "cXaN5hiEB2jG",
        "outputId": "95311a39-2f37-4ee4-a811-0e8098efec37"
      },
      "execution_count": 24,
      "outputs": [
        {
          "output_type": "error",
          "ename": "FileNotFoundError",
          "evalue": "[Errno 2] No such file or directory: 'files.txt'",
          "traceback": [
            "\u001b[0;31m---------------------------------------------------------------------------\u001b[0m",
            "\u001b[0;31mFileNotFoundError\u001b[0m                         Traceback (most recent call last)",
            "\u001b[0;32m<ipython-input-24-ddf3e382d7aa>\u001b[0m in \u001b[0;36m<cell line: 0>\u001b[0;34m()\u001b[0m\n\u001b[1;32m      1\u001b[0m \u001b[0;31m#8 Write a program to handle a file opening error using exception handling.\u001b[0m\u001b[0;34m\u001b[0m\u001b[0;34m\u001b[0m\u001b[0m\n\u001b[0;32m----> 2\u001b[0;31m \u001b[0mopen\u001b[0m\u001b[0;34m(\u001b[0m\u001b[0;34m\"files.txt\"\u001b[0m\u001b[0;34m,\u001b[0m \u001b[0;34m'r'\u001b[0m\u001b[0;34m)\u001b[0m\u001b[0;34m\u001b[0m\u001b[0;34m\u001b[0m\u001b[0m\n\u001b[0m",
            "\u001b[0;31mFileNotFoundError\u001b[0m: [Errno 2] No such file or directory: 'files.txt'"
          ]
        }
      ]
    },
    {
      "cell_type": "code",
      "source": [
        "#9 How can you read a file line by line and store its content in a list in Python?\n",
        "file = open(\"file.txt\", \"w\")\n",
        "file.write(\"This is my first line\\n\")\n",
        "file.write(\"This is my second line\\n\")\n",
        "file.write(\"This is my third line\\n\")\n",
        "file.write(\"This is my fourth line\\n\")\n",
        "file.close()\n",
        "\n",
        "\n",
        "file = open(\"file.txt\", 'r')\n",
        "for i in file:\n",
        "    print(i)"
      ],
      "metadata": {
        "colab": {
          "base_uri": "https://localhost:8080/"
        },
        "id": "vXiP6YKrD-zp",
        "outputId": "70e8b874-2507-4444-af1f-f0b2b36d297c"
      },
      "execution_count": 29,
      "outputs": [
        {
          "output_type": "stream",
          "name": "stdout",
          "text": [
            "This is my first line\n",
            "\n",
            "This is my second line\n",
            "\n",
            "This is my third line\n",
            "\n",
            "This is my fourth line\n",
            "\n"
          ]
        }
      ]
    },
    {
      "cell_type": "code",
      "source": [
        "#10. How can you append data to an existing file in Python?\n",
        "file = open(\"file.txt\", \"a\")\n",
        "file.write(\"This is my fifth line\\n\")\n",
        "file.close()\n",
        "\n",
        "file = open(\"file.txt\", 'r')\n",
        "for i in file:\n",
        "    print(i)"
      ],
      "metadata": {
        "colab": {
          "base_uri": "https://localhost:8080/"
        },
        "id": "tkvCtoEgFAOq",
        "outputId": "b1de55ba-db1d-4375-b7b0-5bab2f76a8c2"
      },
      "execution_count": 30,
      "outputs": [
        {
          "output_type": "stream",
          "name": "stdout",
          "text": [
            "This is my first line\n",
            "\n",
            "This is my second line\n",
            "\n",
            "This is my third line\n",
            "\n",
            "This is my fourth line\n",
            "\n",
            "This is my fifth line\n",
            "\n"
          ]
        }
      ]
    },
    {
      "cell_type": "code",
      "source": [
        "#11 Write a Python program that uses a try-except block to handle an error when attempting to access a dictionary key that doesn't exist.\n",
        "try:\n",
        "    dict = {\"a\": 1, \"b\": 2, \"c\": 3}\n",
        "    print(dict[\"d\"])\n",
        "except KeyError:\n",
        "    print(\"Key not found\")"
      ],
      "metadata": {
        "colab": {
          "base_uri": "https://localhost:8080/"
        },
        "id": "qtyDu3xJFwwd",
        "outputId": "0178f4c8-211d-43b2-b22e-6a9c16507d6a"
      },
      "execution_count": 32,
      "outputs": [
        {
          "output_type": "stream",
          "name": "stdout",
          "text": [
            "Key not found\n"
          ]
        }
      ]
    },
    {
      "cell_type": "code",
      "source": [
        "#12 Write a program that demonstrates using multiple except blocks to handle different types of exceptions.\n",
        "try:\n",
        "    a = 1/0\n",
        "except ZeroDivisionError:\n",
        "    print(\"Division by zero\")\n",
        "except TypeError:\n",
        "    print(\"Type error\")\n",
        "except NameError:\n",
        "    print(\"Name error\")"
      ],
      "metadata": {
        "colab": {
          "base_uri": "https://localhost:8080/"
        },
        "id": "w4v9FPwhF-Zw",
        "outputId": "71d303f4-9491-4532-85b4-cc221c5e205c"
      },
      "execution_count": 33,
      "outputs": [
        {
          "output_type": "stream",
          "name": "stdout",
          "text": [
            "Division by zero\n"
          ]
        }
      ]
    },
    {
      "cell_type": "code",
      "source": [
        "#13 How would you check if a file exists before attempting to read it in Python?\n",
        "with open(\"test_bin.bin\", \"rb\") as f:\n",
        "    print(f.read())"
      ],
      "metadata": {
        "colab": {
          "base_uri": "https://localhost:8080/"
        },
        "id": "e54dKKXTGbpc",
        "outputId": "dda4baf8-76d3-467f-9b65-c534c191ca8a"
      },
      "execution_count": 35,
      "outputs": [
        {
          "output_type": "stream",
          "name": "stdout",
          "text": [
            "b'Hello, World!'\n"
          ]
        }
      ]
    },
    {
      "cell_type": "code",
      "source": [
        "#14 Write a program that uses the logging module to log both informational and error messages.\n",
        "import logging\n",
        "logging.basicConfig(filename = 'test.log', level = logging.INFO)\n",
        "logging.info(\"This is an info message\")\n",
        "logging.warning(\"This is a warning message\")\n",
        "logging.error(\"This is an error message\")"
      ],
      "metadata": {
        "colab": {
          "base_uri": "https://localhost:8080/"
        },
        "id": "jI4QSdhgHy1G",
        "outputId": "d0f38156-a71d-48d3-dfbf-cdbd6aa58de3"
      },
      "execution_count": 38,
      "outputs": [
        {
          "output_type": "stream",
          "name": "stderr",
          "text": [
            "WARNING:root:This is a warning message\n",
            "ERROR:root:This is an error message\n"
          ]
        }
      ]
    },
    {
      "cell_type": "code",
      "source": [
        "#15. Write a Python program that prints the content of a file and handles the case when the file is empty.\n",
        "try:\n",
        "    file = open(\"file.nxt\", 'r')\n",
        "    for i in file:\n",
        "        print(i)\n",
        "except FileNotFoundError:\n",
        "    print(\"File is empty\")"
      ],
      "metadata": {
        "colab": {
          "base_uri": "https://localhost:8080/"
        },
        "id": "vgXROJmdH5_c",
        "outputId": "9a44c1ae-fb6d-400d-b495-2e4210b67066"
      },
      "execution_count": 42,
      "outputs": [
        {
          "output_type": "stream",
          "name": "stdout",
          "text": [
            "File is empty\n"
          ]
        }
      ]
    },
    {
      "cell_type": "code",
      "source": [
        "#16. Demonstrate how to use memory profiling to check the memory usage of a small program.\n",
        "!pip install memory_profiler\n",
        "\n",
        "from memory_profiler import profile\n",
        "\n",
        "@profile\n",
        "def my_function():\n",
        "\n",
        "    my_list = [i * 2 for i in range(100000)]\n",
        "    return sum(my_list)\n",
        "\n",
        "my_function()"
      ],
      "metadata": {
        "colab": {
          "base_uri": "https://localhost:8080/"
        },
        "id": "bM2p1dDgNzzE",
        "outputId": "45cf810f-a001-4167-f942-0427619a372e"
      },
      "execution_count": 63,
      "outputs": [
        {
          "output_type": "stream",
          "name": "stdout",
          "text": [
            "Requirement already satisfied: memory_profiler in /usr/local/lib/python3.11/dist-packages (0.61.0)\n",
            "Requirement already satisfied: psutil in /usr/local/lib/python3.11/dist-packages (from memory_profiler) (5.9.5)\n",
            "ERROR: Could not find file <ipython-input-63-36f88c8f294d>\n",
            "NOTE: %mprun can only be used on functions defined in physical files, and not in the IPython environment.\n"
          ]
        },
        {
          "output_type": "execute_result",
          "data": {
            "text/plain": [
              "9999900000"
            ]
          },
          "metadata": {},
          "execution_count": 63
        }
      ]
    },
    {
      "cell_type": "code",
      "source": [
        "#17 Write a Python program to create and write a list of numbers to a file, one number per line.\n",
        "try:\n",
        "    file = open(\"file.txt\", \"w\")\n",
        "    for i in range(1, 11):\n",
        "        file.write(str(i) + \"\\n\")\n",
        "    file.close()\n",
        "except FileNotFoundError:\n",
        "    print(\"File not found\")"
      ],
      "metadata": {
        "id": "SUEYh9MmJdv8"
      },
      "execution_count": 50,
      "outputs": []
    },
    {
      "cell_type": "code",
      "source": [
        "#18 How would you implement a basic logging setup that logs to a file with rotation after 1MB.\n",
        "import logging\n",
        "from logging.handlers import RotatingFileHandler\n",
        "\n",
        "logger = logging.getLogger(__name__)\n",
        "logger.setLevel(logging.INFO)\n",
        "\n",
        "handler = RotatingFileHandler('my_log.log', maxBytes=1024 * 1024, backupCount=5)\n",
        "\n",
        "formatter = logging.Formatter('%(asctime)s - %(name)s - %(levelname)s - %(message)s')\n",
        "handler.setFormatter(formatter)\n",
        "\n",
        "logger.addHandler(handler)"
      ],
      "metadata": {
        "id": "ueJKnn41KVy2"
      },
      "execution_count": 53,
      "outputs": []
    },
    {
      "cell_type": "code",
      "source": [
        "#19 Write a program that handles both IndexError and KeyError using a try-except block.\n",
        "try:\n",
        "    my_list = [1, 2, 3]\n",
        "    print(my_list[3])  # This will cause an IndexError\n",
        "\n",
        "    my_dict = {'a': 1, 'b': 2}\n",
        "    print(my_dict['c'])  # This will cause a KeyError\n",
        "\n",
        "except IndexError:\n",
        "    print(\"IndexError: You tried to access an invalid index.\")\n",
        "\n",
        "except KeyError:\n",
        "    print(\"KeyError: The key you're looking for doesn't exist.\")"
      ],
      "metadata": {
        "colab": {
          "base_uri": "https://localhost:8080/"
        },
        "id": "5Oqp9JmWLOO_",
        "outputId": "48d3502e-2f5f-489c-d69f-fbba3e22448e"
      },
      "execution_count": 52,
      "outputs": [
        {
          "output_type": "stream",
          "name": "stdout",
          "text": [
            "IndexError: You tried to access an invalid index.\n"
          ]
        }
      ]
    },
    {
      "cell_type": "code",
      "source": [
        "#20 How would you open a file and read its contents using a context manager in Python?\n",
        "with open(\"file.txt\", \"r\") as file:\n",
        "    contents = file.read()\n",
        "\n",
        "    print(contents)"
      ],
      "metadata": {
        "colab": {
          "base_uri": "https://localhost:8080/"
        },
        "id": "DTOkUkyzL0wY",
        "outputId": "de9e6bce-b784-42b9-8b34-fd4404e05e9e"
      },
      "execution_count": 65,
      "outputs": [
        {
          "output_type": "stream",
          "name": "stdout",
          "text": [
            "1\n",
            "2\n",
            "3\n",
            "4\n",
            "5\n",
            "6\n",
            "7\n",
            "8\n",
            "9\n",
            "10\n",
            "\n"
          ]
        }
      ]
    },
    {
      "cell_type": "code",
      "source": [
        "#21 Write a Python program that reads a file and prints the number of occurrences of a specific word.\n",
        "def count_word_occurrences(file_path, target_word):\n",
        "    \"\"\"Counts occurrences of a target word in a file.\n",
        "\n",
        "    Args:\n",
        "        file_path: Path to the file.\n",
        "        target_word: The word to count.\n",
        "\n",
        "    Returns:\n",
        "        The number of occurrences of the target word.\n",
        "    \"\"\"\n",
        "    count = 0\n",
        "    try:\n",
        "        with open(file_path, 'r') as file:\n",
        "            for line in file:\n",
        "                words = line.split()\n",
        "                for word in words:\n",
        "                    if word == target_word:\n",
        "                        count += 1\n",
        "    except FileNotFoundError:\n",
        "        print(f\"File '{file_path}' not found.\")\n",
        "        return 0\n",
        "    return count\n",
        "\n",
        "\n",
        "file_path = \"my_text_file.txt\"\n",
        "target_word = \"example\"\n",
        "\n",
        "occurrences = count_word_occurrences(file_path, target_word)\n",
        "print(f\"The word '{target_word}' appears {occurrences} times in the file.\")"
      ],
      "metadata": {
        "colab": {
          "base_uri": "https://localhost:8080/"
        },
        "id": "pzR6o8khPm7x",
        "outputId": "b0ae881c-97d4-4d2d-e079-e91cb31032db"
      },
      "execution_count": 75,
      "outputs": [
        {
          "output_type": "stream",
          "name": "stdout",
          "text": [
            "File 'my_text_file.txt' not found.\n",
            "The word 'example' appears 0 times in the file.\n"
          ]
        }
      ]
    },
    {
      "cell_type": "code",
      "source": [
        "#22 How can you check if a file is empty before attempting to read its contents.\n",
        "import os\n",
        "\n",
        "def is_file_empty(file_path):\n",
        "  \"\"\"Checks if a file is empty.\n",
        "\n",
        "  Args:\n",
        "    file_path: The path to the file.\n",
        "\n",
        "  Returns:\n",
        "    True if the file is empty, False otherwise.\n",
        "  \"\"\"\n",
        "  try:\n",
        "    return os.stat(file_path).st_size == 0\n",
        "  except FileNotFoundError:\n",
        "    print(f\"File '{file_path}' not found.\")\n",
        "    return True\n",
        "file_path = \"my_file.txt\"\n",
        "if is_file_empty(file_path):\n",
        "  print(f\"The file '{file_path}' is empty.\")\n",
        "else:\n",
        "  print(f\"The file '{file_path}' is not empty.\")"
      ],
      "metadata": {
        "colab": {
          "base_uri": "https://localhost:8080/"
        },
        "id": "Ovf_xVBTPsi4",
        "outputId": "5e8dbe83-22f0-4dba-c95e-fdd178a8419d"
      },
      "execution_count": 72,
      "outputs": [
        {
          "output_type": "stream",
          "name": "stdout",
          "text": [
            "File 'my_file.txt' not found.\n",
            "The file 'my_file.txt' is empty.\n"
          ]
        }
      ]
    },
    {
      "cell_type": "code",
      "source": [
        "#23 Write a Python program that writes to a log file when an error occurs during file handling.\n",
        "import logging\n",
        "\n",
        "logging.basicConfig(filename='file_errors.log', level=logging.ERROR)\n",
        "\n",
        "try:\n",
        "\n",
        "    file = open(\"myfile.txt\", \"r\")\n",
        "\n",
        "    file.close()\n",
        "except FileNotFoundError as e:\n",
        "    logging.error(f\"Error opening file: {e}\")\n",
        "except Exception as e:\n",
        "    logging.error(f\"An unexpected error occurred: {e}\")"
      ],
      "metadata": {
        "colab": {
          "base_uri": "https://localhost:8080/"
        },
        "id": "MJGz276XPKIz",
        "outputId": "ce288514-16ce-494e-e8b1-5e0121c236bf"
      },
      "execution_count": 68,
      "outputs": [
        {
          "output_type": "stream",
          "name": "stderr",
          "text": [
            "ERROR:root:Error opening file: [Errno 2] No such file or directory: 'myfile.txt'\n"
          ]
        }
      ]
    },
    {
      "cell_type": "code",
      "source": [],
      "metadata": {
        "id": "ZS-HQvhePlUi"
      },
      "execution_count": null,
      "outputs": []
    }
  ]
}